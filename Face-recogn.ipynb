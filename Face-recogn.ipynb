{
 "cells": [
  {
   "cell_type": "markdown",
   "metadata": {},
   "source": [
    "# 1. Setup"
   ]
  },
  {
   "cell_type": "markdown",
   "metadata": {},
   "source": [
    "### 1.1 Install Dependencies"
   ]
  },
  {
   "cell_type": "code",
   "execution_count": 1,
   "metadata": {},
   "outputs": [],
   "source": [
    "# %pip install tensorflow[and-cuda]"
   ]
  },
  {
   "cell_type": "code",
   "execution_count": 2,
   "metadata": {},
   "outputs": [],
   "source": [
    "# %pip install tensorflow==2.10.0 "
   ]
  },
  {
   "cell_type": "code",
   "execution_count": 3,
   "metadata": {},
   "outputs": [],
   "source": [
    "# %pip install matplotlib"
   ]
  },
  {
   "cell_type": "code",
   "execution_count": 4,
   "metadata": {},
   "outputs": [],
   "source": [
    "# %pip install opencv-python"
   ]
  },
  {
   "cell_type": "code",
   "execution_count": 5,
   "metadata": {},
   "outputs": [],
   "source": [
    "#tensorflow-gpu==2.15.0 opencv-python matplotlib"
   ]
  },
  {
   "cell_type": "code",
   "execution_count": 6,
   "metadata": {},
   "outputs": [],
   "source": [
    "# %pip install tensorflow-gpu==2.10.0"
   ]
  },
  {
   "cell_type": "markdown",
   "metadata": {},
   "source": [
    "### Import Dependencies "
   ]
  },
  {
   "cell_type": "code",
   "execution_count": 3,
   "metadata": {},
   "outputs": [],
   "source": [
    "import cv2\n",
    "import os\n",
    "import random\n",
    "import numpy as np\n",
    "from matplotlib import pyplot as plt"
   ]
  },
  {
   "cell_type": "code",
   "execution_count": 4,
   "metadata": {},
   "outputs": [],
   "source": [
    "# import tensorflow dependencies -Funtcional API\n",
    "from tensorflow.keras.models import Model\n",
    "from tensorflow.keras.layers import Layer, Conv2D, Dense, MaxPooling2D, Input, Flatten \n",
    "import tensorflow as tf"
   ]
  },
  {
   "cell_type": "markdown",
   "metadata": {},
   "source": [
    "Using TensorFlow functional API simply because it is alot more flexable than the sequencal api, in terms of hardcore deep learning models \n",
    "I will also be building a Siammese Neural Network that way we can pass in two immmages at a time, and the nueral netwrok will measure the similarity between them. The network will be trained on how similar they are (1=similar/verified 0=not similar/not verified)"
   ]
  },
  {
   "cell_type": "markdown",
   "metadata": {},
   "source": [
    "### 1.3 Set Gpu Growth\n",
    "We want to limit how much vram tensorflow has access to if not we will run into out of memory errors. "
   ]
  },
  {
   "cell_type": "code",
   "execution_count": 5,
   "metadata": {},
   "outputs": [],
   "source": [
    "# Avoid OOM erros by seting GPU Memory Consumption Growth\n",
    "gpus = tf.config.experimental.list_physical_devices('GPU')\n",
    "for gpu in gpus:\n",
    "    tf.config.experimental.set_memory_growth(gpu, True)"
   ]
  },
  {
   "cell_type": "code",
   "execution_count": 6,
   "metadata": {},
   "outputs": [
    {
     "name": "stdout",
     "output_type": "stream",
     "text": [
      "PhysicalDevice(name='/physical_device:GPU:0', device_type='GPU')\n"
     ]
    },
    {
     "data": {
      "text/plain": [
       "1"
      ]
     },
     "execution_count": 6,
     "metadata": {},
     "output_type": "execute_result"
    }
   ],
   "source": [
    "for gpu in gpus:\n",
    "    print(gpu)\n",
    "len(gpus)\n"
   ]
  },
  {
   "cell_type": "markdown",
   "metadata": {},
   "source": [
    "### 1.4 Create Folder Structures"
   ]
  },
  {
   "cell_type": "markdown",
   "metadata": {},
   "source": [
    "Setup paths and create directories "
   ]
  },
  {
   "cell_type": "code",
   "execution_count": 7,
   "metadata": {},
   "outputs": [],
   "source": [
    "POS_PATH = os.path.join('data', 'positive')\n",
    "NEG_PATH = os.path.join('data', 'negative')\n",
    "ANC_PATH = os.path.join('data', 'anchor')\n",
    "\n",
    "# os.makedirs(POS_PATH)\n",
    "# os.makedirs(NEG_PATH)\n",
    "# os.makedirs(ANC_PATH)"
   ]
  },
  {
   "cell_type": "markdown",
   "metadata": {},
   "source": [
    "# 2 Collect Positivies and Anchors\n"
   ]
  },
  {
   "cell_type": "markdown",
   "metadata": {},
   "source": [
    "### 2.1 Untar Labelled Faces in the Wild Dataset"
   ]
  },
  {
   "cell_type": "markdown",
   "metadata": {},
   "source": [
    "negatives will be collected from the labled faces in the wild dataset from https://vis-www.cs.umass.edu/lfw/\n",
    "it is a compressed tar dataset so we must uncompress it before we attempt to use the dataset."
   ]
  },
  {
   "cell_type": "code",
   "execution_count": 12,
   "metadata": {},
   "outputs": [],
   "source": [
    "# !tar -xf lfw.tgz"
   ]
  },
  {
   "cell_type": "code",
   "execution_count": 13,
   "metadata": {},
   "outputs": [],
   "source": [
    "# move the LFW images to the data/negative folder\n",
    "# for directory in os.listdir('lfw'):\n",
    "#     for file in os.listdir(os.path.join('lfw', directory)):\n",
    "#         EX_PATH = os.path.join('lfw', directory, file)\n",
    "#         NEW_PATH = os.path.join(NEG_PATH, file)\n",
    "#         os.replace(EX_PATH, NEW_PATH)"
   ]
  },
  {
   "cell_type": "markdown",
   "metadata": {},
   "source": [
    "### 2.2 Collect Positives and Anchor Classes"
   ]
  },
  {
   "cell_type": "markdown",
   "metadata": {},
   "source": [
    "access the webcam using opencv to collect the postives "
   ]
  },
  {
   "cell_type": "code",
   "execution_count": 8,
   "metadata": {},
   "outputs": [
    {
     "name": "stdout",
     "output_type": "stream",
     "text": [
      "Available Cameras: [0, 1, 2]\n"
     ]
    }
   ],
   "source": [
    "# # show avialble cameras indexes\n",
    "# def get_available_cameras():\n",
    "#     available_cameras = []\n",
    "#     # Check for 5 cameras \n",
    "#     for i in range(5):\n",
    "#         cap = cv2.VideoCapture(i)\n",
    "#         if cap.isOpened():\n",
    "#             available_cameras.append(i)\n",
    "#             cap.release()\n",
    "#     return available_cameras\n",
    "\n",
    "# cameras = get_available_cameras()\n",
    "# if cameras:\n",
    "#     print(\"Available Cameras:\", cameras)\n",
    "# else:\n",
    "#     print(\"No cameras found.\")"
   ]
  },
  {
   "cell_type": "code",
   "execution_count": 9,
   "metadata": {},
   "outputs": [],
   "source": [
    "# import uuid library to generate unique image names\n",
    "import uuid"
   ]
  },
  {
   "cell_type": "code",
   "execution_count": 18,
   "metadata": {},
   "outputs": [],
   "source": [
    "cap = cv2.VideoCapture(0)                   # connection to webcam\n",
    "if not cap.isOpened():\n",
    "    print(\"Cannot open camera\")\n",
    "    exit()\n",
    "\n",
    "while cap.isOpened():                       # while webcam is running\n",
    "    ret, frame = cap.read()                 # read frame\n",
    "    # crop image\n",
    "    frame = frame[170:170+250,400:400+250, :]\n",
    "    \n",
    "    # collect anchors\n",
    "    if cv2.waitKey(1) & 0xFF == ord('a'):\n",
    "        imgname = os.path.join(ANC_PATH, '{}.jpg'.format(uuid.uuid1())) # generate unique file path\n",
    "        cv2.imwrite(imgname, frame)        # save image\n",
    "    # collect positives\n",
    "    if cv2.waitKey(1) & 0xFF == ord('p'):\n",
    "        imgname = os.path.join(POS_PATH, '{}.jpg'.format(uuid.uuid1())) # generate unique file path\n",
    "        cv2.imwrite(imgname, frame)        # save image\n",
    "\n",
    "    cv2.imshow('Image Collection', frame)   # show frameq\n",
    "\n",
    "    if cv2.waitKey(1) & 0xFF == ord('q'):   # if 'q' is pressed, then stop\n",
    "        break\n",
    "    \n",
    "cap.release()                               # release webcam\n",
    "cv2.destroyAllWindows()                     # close the image show frame"
   ]
  },
  {
   "cell_type": "code",
   "execution_count": 17,
   "metadata": {},
   "outputs": [],
   "source": [
    "# face_cascade = cv2.CascadeClassifier(cv2.data.haarcascades + 'haarcascade_frontalface_default.xml')\n",
    "\n",
    "# cap = cv2.VideoCapture(0)\n",
    "# if not cap.isOpened():\n",
    "#     print(\"Cannot open camera\")\n",
    "#     exit()\n",
    "\n",
    "# while cap.isOpened():\n",
    "#     ret, frame = cap.read()\n",
    "\n",
    "#     # Resize the frame for faster processing (optional)\n",
    "#     frame = cv2.resize(frame, (640, 480))\n",
    "\n",
    "#     # Convert the frame to grayscale for face detection\n",
    "#     gray = cv2.cvtColor(frame, cv2.COLOR_BGR2GRAY)\n",
    "\n",
    "#     # Detect faces in the frame\n",
    "#     faces = face_cascade.detectMultiScale(gray, scaleFactor=1.1, minNeighbors=5, minSize=(30, 30))\n",
    "\n",
    "#     if len(faces) > 0:\n",
    "#         # Take the first detected face (assuming only one person in front of the camera)\n",
    "#         x, y, w, h = faces[0]\n",
    "\n",
    "#         # Crop the face region\n",
    "#         face_roi = frame[y:y + h, x:x + w]\n",
    "\n",
    "#         # Resize the face region to 250x250 pixels\n",
    "#         resized_face = cv2.resize(face_roi, (250, 250))\n",
    "\n",
    "#         # Display the resized face\n",
    "#         cv2.imshow('Resized Face', resized_face)\n",
    "\n",
    "#         # Collect anchors\n",
    "#         if cv2.waitKey(1) & 0xFF == ord('a'):\n",
    "#             imgname = os.path.join(ANC_PATH, '{}.jpg'.format(uuid.uuid1()))\n",
    "#             cv2.imwrite(imgname, resized_face)\n",
    "\n",
    "#         # Collect positives\n",
    "#         if cv2.waitKey(1) & 0xFF == ord('p'):\n",
    "#             imgname = os.path.join(POS_PATH, '{}.jpg'.format(uuid.uuid1()))\n",
    "#             cv2.imwrite(imgname, resized_face)\n",
    "\n",
    "#     cv2.imshow('Original Frame', frame)\n",
    "\n",
    "#     if cv2.waitKey(1) & 0xFF == ord('q'):\n",
    "#         break\n",
    "\n",
    "# cap.release()\n",
    "# cv2.destroyAllWindows()"
   ]
  },
  {
   "cell_type": "markdown",
   "metadata": {},
   "source": [
    "# 3 Load and Process Images"
   ]
  },
  {
   "cell_type": "markdown",
   "metadata": {},
   "source": [
    "### 3.1 Get image Directories"
   ]
  },
  {
   "cell_type": "code",
   "execution_count": 19,
   "metadata": {},
   "outputs": [],
   "source": [
    "anchor = tf.data.Dataset.list_files(ANC_PATH + '\\*.jpg').take(300)\n",
    "positive = tf.data.Dataset.list_files(POS_PATH + '\\*.jpg').take(300)\n",
    "negative = tf.data.Dataset.list_files(NEG_PATH + '\\*.jpg').take(300)"
   ]
  },
  {
   "cell_type": "code",
   "execution_count": 20,
   "metadata": {},
   "outputs": [],
   "source": [
    "dir_test = anchor.as_numpy_iterator()"
   ]
  },
  {
   "cell_type": "code",
   "execution_count": 21,
   "metadata": {},
   "outputs": [
    {
     "data": {
      "text/plain": [
       "b'data\\\\anchor\\\\d5e6020c-b700-11ee-9ead-f8ac65ab46be.jpg'"
      ]
     },
     "execution_count": 21,
     "metadata": {},
     "output_type": "execute_result"
    }
   ],
   "source": [
    "dir_test.next()"
   ]
  },
  {
   "cell_type": "markdown",
   "metadata": {},
   "source": [
    "### 3.2 Preprocessing - Scale and Resize"
   ]
  },
  {
   "cell_type": "markdown",
   "metadata": {},
   "source": [
    "read in an image from its file path, load it then resize the image to be 100x100x3. We are doing this just to follow along with the paper about siamese neural network"
   ]
  },
  {
   "cell_type": "code",
   "execution_count": 25,
   "metadata": {},
   "outputs": [],
   "source": [
    "def preprocess(file_path):\n",
    "    byte_img = tf.io.read_file(file_path)\n",
    "    img = tf.io.decode_jpeg(byte_img)\n",
    "    img = tf.image.resize(img,(100,100))\n",
    "    img = img / 255.0\n",
    "    return img"
   ]
  },
  {
   "cell_type": "code",
   "execution_count": 26,
   "metadata": {},
   "outputs": [],
   "source": [
    "img = preprocess('data\\\\anchor\\\\d5e6020c-b700-11ee-9ead-f8ac65ab46be.jpg')"
   ]
  },
  {
   "cell_type": "code",
   "execution_count": 28,
   "metadata": {},
   "outputs": [
    {
     "data": {
      "text/plain": [
       "0.95710784"
      ]
     },
     "execution_count": 28,
     "metadata": {},
     "output_type": "execute_result"
    }
   ],
   "source": [
    "img.numpy().max()"
   ]
  },
  {
   "cell_type": "code",
   "execution_count": 29,
   "metadata": {},
   "outputs": [
    {
     "data": {
      "text/plain": [
       "<matplotlib.image.AxesImage at 0x1bc2bb917c0>"
      ]
     },
     "execution_count": 29,
     "metadata": {},
     "output_type": "execute_result"
    },
    {
     "data": {
      "image/png": "[encoded data removed]",
      "text/plain": [
       "<Figure size 640x480 with 1 Axes>"
      ]
     },
     "metadata": {},
     "output_type": "display_data"
    }
   ],
   "source": [
    "plt.imshow(img)"
   ]
  },
  {
   "cell_type": "markdown",
   "metadata": {},
   "source": [
    "### 3.3 Create Labelled Datasset"
   ]
  },
  {
   "cell_type": "code",
   "execution_count": 30,
   "metadata": {},
   "outputs": [],
   "source": [
    "postives = tf.data.Dataset.zip((anchor, positive, tf.data.Dataset.from_tensor_slices(tf.ones(len(anchor)))))\n",
    "negatives = tf.data.Dataset.zip((anchor, negative, tf.data.Dataset.from_tensor_slices(tf.zeros(len(anchor)))))\n",
    "data = postives.concatenate(negatives)"
   ]
  },
  {
   "cell_type": "code",
   "execution_count": 31,
   "metadata": {},
   "outputs": [],
   "source": [
    "samples = data.as_numpy_iterator()"
   ]
  },
  {
   "cell_type": "code",
   "execution_count": 32,
   "metadata": {},
   "outputs": [],
   "source": [
    "exampple = samples.next()"
   ]
  },
  {
   "cell_type": "code",
   "execution_count": 33,
   "metadata": {},
   "outputs": [
    {
     "data": {
      "text/plain": [
       "(b'data\\\\anchor\\\\d69a3c7e-b700-11ee-a0db-f8ac65ab46be.jpg',\n",
       " b'data\\\\positive\\\\2276cd64-b701-11ee-b9c7-f8ac65ab46be.jpg',\n",
       " 1.0)"
      ]
     },
     "execution_count": 33,
     "metadata": {},
     "output_type": "execute_result"
    }
   ],
   "source": [
    "exampple"
   ]
  },
  {
   "cell_type": "code",
   "execution_count": 34,
   "metadata": {},
   "outputs": [
    {
     "data": {
      "text/plain": [
       "3"
      ]
     },
     "execution_count": 34,
     "metadata": {},
     "output_type": "execute_result"
    }
   ],
   "source": [
    "len(exampple)"
   ]
  },
  {
   "cell_type": "code",
   "execution_count": null,
   "metadata": {},
   "outputs": [],
   "source": []
  },
  {
   "cell_type": "markdown",
   "metadata": {},
   "source": [
    "### 3.4 Build Train and  Test Partition"
   ]
  },
  {
   "cell_type": "code",
   "execution_count": 35,
   "metadata": {},
   "outputs": [],
   "source": [
    "def preprocess_twin(input_img, validation_img, label):\n",
    "    return(preprocess(input_img), preprocess(validation_img), label)"
   ]
  },
  {
   "cell_type": "code",
   "execution_count": 36,
   "metadata": {},
   "outputs": [],
   "source": [
    "res = preprocess_twin(*exampple)\n"
   ]
  },
  {
   "cell_type": "code",
   "execution_count": 37,
   "metadata": {},
   "outputs": [
    {
     "data": {
      "text/plain": [
       "<matplotlib.image.AxesImage at 0x1bc2bc82af0>"
      ]
     },
     "execution_count": 37,
     "metadata": {},
     "output_type": "execute_result"
    },
    {
     "data": {
      "image/png": "[encoded data removed]",
      "text/plain": [
       "<Figure size 640x480 with 1 Axes>"
      ]
     },
     "metadata": {},
     "output_type": "display_data"
    }
   ],
   "source": [
    "plt.imshow(res[1])\n"
   ]
  },
  {
   "cell_type": "code",
   "execution_count": 38,
   "metadata": {},
   "outputs": [
    {
     "data": {
      "text/plain": [
       "1.0"
      ]
     },
     "execution_count": 38,
     "metadata": {},
     "output_type": "execute_result"
    }
   ],
   "source": [
    "res[2]\n"
   ]
  },
  {
   "cell_type": "code",
   "execution_count": 39,
   "metadata": {},
   "outputs": [],
   "source": [
    "# Build data loader pipeline\n",
    "# data = positive.map(preprocess)\n",
    "data = data.map(preprocess_twin)\n",
    "data = data.cache()\n",
    "data = data.shuffle(buffer_size=1024)\n"
   ]
  },
  {
   "cell_type": "code",
   "execution_count": 40,
   "metadata": {},
   "outputs": [],
   "source": [
    "# Training Partition\n",
    "train_data = data.take(round(len(data)*0.7))\n",
    "train_data = train_data.batch(16)\n",
    "train_data = train_data.prefetch(8)"
   ]
  },
  {
   "cell_type": "code",
   "execution_count": 41,
   "metadata": {},
   "outputs": [],
   "source": [
    "test_data = data.skip(round(len(data)*0.7))\n",
    "test_data = test_data.take(round(len(data)*0.3))\n",
    "test_data = test_data.batch(16)\n",
    "test_data = test_data.prefetch(8)"
   ]
  },
  {
   "cell_type": "markdown",
   "metadata": {},
   "source": [
    "# 4 Model Engineering"
   ]
  },
  {
   "cell_type": "markdown",
   "metadata": {},
   "source": [
    "### 4.1 Build Embedding Layer"
   ]
  },
  {
   "cell_type": "code",
   "execution_count": 42,
   "metadata": {},
   "outputs": [],
   "source": [
    "def make_embedding():\n",
    "    inp = Input(shape=(100,100,3), name='input_image')\n",
    "\n",
    "    # First Block\n",
    "    c1 = Conv2D(64, (10,10), activation='relu')(inp)\n",
    "    m1 = MaxPooling2D(64, (2,2), padding='same')(c1)\n",
    "\n",
    "    # Second Block\n",
    "    c2 = Conv2D(128, (7,7), activation='relu')(m1)\n",
    "    m2 = MaxPooling2D(64, (2,2), padding='same')(c2)\n",
    "\n",
    "    # Third Block\n",
    "    c3 = Conv2D(128, (4,4), activation='relu')(m2)\n",
    "    m3 = MaxPooling2D(64, (2,2), padding='same')(c3)\n",
    "\n",
    "    # Final embedding block\n",
    "    c4 = Conv2D(256, (4,4), activation='relu')(m3)\n",
    "    f1 = Flatten()(c4)\n",
    "    d1 = Dense(4096, activation='sigmoid')(f1)\n",
    "\n",
    "    return Model(inputs=[inp], outputs=[d1], name='embedding')"
   ]
  },
  {
   "cell_type": "code",
   "execution_count": 43,
   "metadata": {},
   "outputs": [],
   "source": [
    "embedding = make_embedding()"
   ]
  },
  {
   "cell_type": "code",
   "execution_count": 44,
   "metadata": {},
   "outputs": [
    {
     "name": "stdout",
     "output_type": "stream",
     "text": [
      "Model: \"embedding\"\n",
      "_________________________________________________________________\n",
      " Layer (type)                Output Shape              Param #   \n",
      "=================================================================\n",
      " input_image (InputLayer)    [(None, 100, 100, 3)]     0         \n",
      "                                                                 \n",
      " conv2d (Conv2D)             (None, 91, 91, 64)        19264     \n",
      "                                                                 \n",
      " max_pooling2d (MaxPooling2D  (None, 46, 46, 64)       0         \n",
      " )                                                               \n",
      "                                                                 \n",
      " conv2d_1 (Conv2D)           (None, 40, 40, 128)       401536    \n",
      "                                                                 \n",
      " max_pooling2d_1 (MaxPooling  (None, 20, 20, 128)      0         \n",
      " 2D)                                                             \n",
      "                                                                 \n",
      " conv2d_2 (Conv2D)           (None, 17, 17, 128)       262272    \n",
      "                                                                 \n",
      " max_pooling2d_2 (MaxPooling  (None, 9, 9, 128)        0         \n",
      " 2D)                                                             \n",
      "                                                                 \n",
      " conv2d_3 (Conv2D)           (None, 6, 6, 256)         524544    \n",
      "                                                                 \n",
      " flatten (Flatten)           (None, 9216)              0         \n",
      "                                                                 \n",
      " dense (Dense)               (None, 4096)              37752832  \n",
      "                                                                 \n",
      "=================================================================\n",
      "Total params: 38,960,448\n",
      "Trainable params: 38,960,448\n",
      "Non-trainable params: 0\n",
      "_________________________________________________________________\n"
     ]
    }
   ],
   "source": [
    "embedding.summary()"
   ]
  },
  {
   "cell_type": "markdown",
   "metadata": {},
   "source": [
    "### 4.2 Build Distance Layer"
   ]
  },
  {
   "cell_type": "code",
   "execution_count": 45,
   "metadata": {},
   "outputs": [],
   "source": [
    "# Siamese L1 Distance Class\n",
    "class L1Dist(Layer):\n",
    "    \n",
    "    # Init method - inheritance\n",
    "    def __init__(self, **kwards):\n",
    "        super().__init__()\n",
    "    \n",
    "    # similarity calculation\n",
    "    def call(self, input_embedding, validation_embedding):\n",
    "        return tf.math.abs(input_embedding - validation_embedding)"
   ]
  },
  {
   "cell_type": "code",
   "execution_count": 46,
   "metadata": {},
   "outputs": [],
   "source": [
    "l1 = L1Dist()"
   ]
  },
  {
   "cell_type": "code",
   "execution_count": 47,
   "metadata": {},
   "outputs": [
    {
     "ename": "NameError",
     "evalue": "name 'anchor_embedding' is not defined",
     "output_type": "error",
     "traceback": [
      "\u001b[1;31m---------------------------------------------------------------------------\u001b[0m",
      "\u001b[1;31mNameError\u001b[0m                                 Traceback (most recent call last)",
      "Cell \u001b[1;32mIn[47], line 1\u001b[0m\n\u001b[1;32m----> 1\u001b[0m l1(\u001b[43manchor_embedding\u001b[49m, validation_embedding)\n",
      "\u001b[1;31mNameError\u001b[0m: name 'anchor_embedding' is not defined"
     ]
    }
   ],
   "source": [
    "l1(anchor_embedding, validation_embedding)"
   ]
  },
  {
   "cell_type": "markdown",
   "metadata": {},
   "source": [
    "### 4.3 Make Siamese Model"
   ]
  },
  {
   "cell_type": "code",
   "execution_count": 49,
   "metadata": {},
   "outputs": [],
   "source": [
    "input_image = Input(name='input_img', shape=(100,100,3))\n",
    "validation_image = Input(name='validation_img', shape=(100,100,3))"
   ]
  },
  {
   "cell_type": "code",
   "execution_count": 50,
   "metadata": {},
   "outputs": [],
   "source": [
    "inp_embedding = embedding(input_image)\n",
    "val_embedding = embedding(validation_image)"
   ]
  },
  {
   "cell_type": "code",
   "execution_count": 51,
   "metadata": {},
   "outputs": [],
   "source": [
    "siamese_layer = L1Dist()"
   ]
  },
  {
   "cell_type": "code",
   "execution_count": 52,
   "metadata": {},
   "outputs": [],
   "source": [
    "distances = siamese_layer(inp_embedding, val_embedding)"
   ]
  },
  {
   "cell_type": "code",
   "execution_count": 53,
   "metadata": {},
   "outputs": [],
   "source": [
    "classifier = Dense(1, activation='sigmoid')(distances)"
   ]
  },
  {
   "cell_type": "code",
   "execution_count": 54,
   "metadata": {},
   "outputs": [
    {
     "data": {
      "text/plain": [
       "<KerasTensor: shape=(None, 1) dtype=float32 (created by layer 'dense_1')>"
      ]
     },
     "execution_count": 54,
     "metadata": {},
     "output_type": "execute_result"
    }
   ],
   "source": [
    "classifier"
   ]
  },
  {
   "cell_type": "code",
   "execution_count": 55,
   "metadata": {},
   "outputs": [],
   "source": [
    "siamese_network = Model(inputs=[input_image, validation_image], outputs= classifier, name ='SiameseNetwork')"
   ]
  },
  {
   "cell_type": "code",
   "execution_count": 56,
   "metadata": {},
   "outputs": [
    {
     "name": "stdout",
     "output_type": "stream",
     "text": [
      "Model: \"SiameseNetwork\"\n",
      "__________________________________________________________________________________________________\n",
      " Layer (type)                   Output Shape         Param #     Connected to                     \n",
      "==================================================================================================\n",
      " input_img (InputLayer)         [(None, 100, 100, 3  0           []                               \n",
      "                                )]                                                                \n",
      "                                                                                                  \n",
      " validation_img (InputLayer)    [(None, 100, 100, 3  0           []                               \n",
      "                                )]                                                                \n",
      "                                                                                                  \n",
      " embedding (Functional)         (None, 4096)         38960448    ['input_img[0][0]',              \n",
      "                                                                  'validation_img[0][0]']         \n",
      "                                                                                                  \n",
      " l1_dist_1 (L1Dist)             (None, 4096)         0           ['embedding[0][0]',              \n",
      "                                                                  'embedding[1][0]']              \n",
      "                                                                                                  \n",
      " dense_1 (Dense)                (None, 1)            4097        ['l1_dist_1[0][0]']              \n",
      "                                                                                                  \n",
      "==================================================================================================\n",
      "Total params: 38,964,545\n",
      "Trainable params: 38,964,545\n",
      "Non-trainable params: 0\n",
      "__________________________________________________________________________________________________\n"
     ]
    }
   ],
   "source": [
    "siamese_network.summary()"
   ]
  },
  {
   "cell_type": "code",
   "execution_count": 57,
   "metadata": {},
   "outputs": [],
   "source": [
    "def make_siamese_model():\n",
    "    # Anchor image input in the network\n",
    "    input_image = Input(name='input_img', shape=(100,100,3))\n",
    "\n",
    "    # Validation image input in the network\n",
    "    validation_image = Input(name='validation_img', shape=(100,100,3))\n",
    "\n",
    "    # Combine siamese distance components\n",
    "    siamese_layer = L1Dist()\n",
    "    siamese_layer._name = 'distance'\n",
    "    distances = siamese_layer(embedding(input_image), embedding(validation_image))\n",
    "\n",
    "    # Classification layer\n",
    "    classifier = Dense(1, activation='sigmoid')(distances)\n",
    "\n",
    "    return Model(inputs=[input_image, validation_image], outputs= classifier, name ='SiameseNetwork') "
   ]
  },
  {
   "cell_type": "code",
   "execution_count": 58,
   "metadata": {},
   "outputs": [],
   "source": [
    "siamese_model = make_siamese_model()"
   ]
  },
  {
   "cell_type": "code",
   "execution_count": 59,
   "metadata": {},
   "outputs": [
    {
     "name": "stdout",
     "output_type": "stream",
     "text": [
      "Model: \"SiameseNetwork\"\n",
      "__________________________________________________________________________________________________\n",
      " Layer (type)                   Output Shape         Param #     Connected to                     \n",
      "==================================================================================================\n",
      " input_img (InputLayer)         [(None, 100, 100, 3  0           []                               \n",
      "                                )]                                                                \n",
      "                                                                                                  \n",
      " validation_img (InputLayer)    [(None, 100, 100, 3  0           []                               \n",
      "                                )]                                                                \n",
      "                                                                                                  \n",
      " embedding (Functional)         (None, 4096)         38960448    ['input_img[0][0]',              \n",
      "                                                                  'validation_img[0][0]']         \n",
      "                                                                                                  \n",
      " distance (L1Dist)              (None, 4096)         0           ['embedding[2][0]',              \n",
      "                                                                  'embedding[3][0]']              \n",
      "                                                                                                  \n",
      " dense_2 (Dense)                (None, 1)            4097        ['distance[0][0]']               \n",
      "                                                                                                  \n",
      "==================================================================================================\n",
      "Total params: 38,964,545\n",
      "Trainable params: 38,964,545\n",
      "Non-trainable params: 0\n",
      "__________________________________________________________________________________________________\n"
     ]
    }
   ],
   "source": [
    "siamese_model.summary()"
   ]
  },
  {
   "cell_type": "markdown",
   "metadata": {},
   "source": [
    "# 5. Training"
   ]
  },
  {
   "cell_type": "markdown",
   "metadata": {},
   "source": [
    "### 5.1 Setup Loss and Optimizer"
   ]
  },
  {
   "cell_type": "code",
   "execution_count": 60,
   "metadata": {},
   "outputs": [],
   "source": [
    "binary_cross_loss = tf.losses.BinaryCrossentropy()"
   ]
  },
  {
   "cell_type": "code",
   "execution_count": 61,
   "metadata": {},
   "outputs": [],
   "source": [
    "opt = tf.keras.optimizers.Adam(1e-4) # 0.0001"
   ]
  },
  {
   "cell_type": "markdown",
   "metadata": {},
   "source": [
    "### 5.2 Establish Checkpoints "
   ]
  },
  {
   "cell_type": "code",
   "execution_count": 62,
   "metadata": {},
   "outputs": [],
   "source": [
    "checkpoint_dir = './training_checkpoints'\n",
    "checkpoint_prefix = os.path.join(checkpoint_dir, \"ckpt\")\n",
    "checkpoint = tf.train.Checkpoint(opt=opt, siamese_model=siamese_model)"
   ]
  },
  {
   "cell_type": "markdown",
   "metadata": {},
   "source": [
    "### 5.3 Build Train Step Function"
   ]
  },
  {
   "cell_type": "code",
   "execution_count": 63,
   "metadata": {},
   "outputs": [],
   "source": [
    "test_batch = train_data.as_numpy_iterator()"
   ]
  },
  {
   "cell_type": "code",
   "execution_count": 64,
   "metadata": {},
   "outputs": [],
   "source": [
    "batch_1 = test_batch.next()"
   ]
  },
  {
   "cell_type": "code",
   "execution_count": 65,
   "metadata": {},
   "outputs": [],
   "source": [
    "X = batch_1[:2]"
   ]
  },
  {
   "cell_type": "code",
   "execution_count": 66,
   "metadata": {},
   "outputs": [],
   "source": [
    "y =batch_1[2]"
   ]
  },
  {
   "cell_type": "code",
   "execution_count": 67,
   "metadata": {},
   "outputs": [
    {
     "data": {
      "text/plain": [
       "array([0., 0., 0., 0., 0., 1., 1., 1., 0., 1., 0., 0., 0., 1., 1., 1.],\n",
       "      dtype=float32)"
      ]
     },
     "execution_count": 67,
     "metadata": {},
     "output_type": "execute_result"
    }
   ],
   "source": [
    "y"
   ]
  },
  {
   "cell_type": "code",
   "execution_count": 68,
   "metadata": {},
   "outputs": [
    {
     "name": "stdout",
     "output_type": "stream",
     "text": [
      "\u001b[1;31mInit signature:\u001b[0m\n",
      "\u001b[0mtf\u001b[0m\u001b[1;33m.\u001b[0m\u001b[0mlosses\u001b[0m\u001b[1;33m.\u001b[0m\u001b[0mBinaryCrossentropy\u001b[0m\u001b[1;33m(\u001b[0m\u001b[1;33m\n",
      "\u001b[0m    \u001b[0mfrom_logits\u001b[0m\u001b[1;33m=\u001b[0m\u001b[1;32mFalse\u001b[0m\u001b[1;33m,\u001b[0m\u001b[1;33m\n",
      "\u001b[0m    \u001b[0mlabel_smoothing\u001b[0m\u001b[1;33m=\u001b[0m\u001b[1;36m0.0\u001b[0m\u001b[1;33m,\u001b[0m\u001b[1;33m\n",
      "\u001b[0m    \u001b[0maxis\u001b[0m\u001b[1;33m=\u001b[0m\u001b[1;33m-\u001b[0m\u001b[1;36m1\u001b[0m\u001b[1;33m,\u001b[0m\u001b[1;33m\n",
      "\u001b[0m    \u001b[0mreduction\u001b[0m\u001b[1;33m=\u001b[0m\u001b[1;34m'auto'\u001b[0m\u001b[1;33m,\u001b[0m\u001b[1;33m\n",
      "\u001b[0m    \u001b[0mname\u001b[0m\u001b[1;33m=\u001b[0m\u001b[1;34m'binary_crossentropy'\u001b[0m\u001b[1;33m,\u001b[0m\u001b[1;33m\n",
      "\u001b[0m\u001b[1;33m)\u001b[0m\u001b[1;33m\u001b[0m\u001b[1;33m\u001b[0m\u001b[0m\n",
      "\u001b[1;31mSource:\u001b[0m        \n",
      "\u001b[1;33m@\u001b[0m\u001b[0mkeras_export\u001b[0m\u001b[1;33m(\u001b[0m\u001b[1;34m\"keras.losses.BinaryCrossentropy\"\u001b[0m\u001b[1;33m)\u001b[0m\u001b[1;33m\n",
      "\u001b[0m\u001b[1;32mclass\u001b[0m \u001b[0mBinaryCrossentropy\u001b[0m\u001b[1;33m(\u001b[0m\u001b[0mLossFunctionWrapper\u001b[0m\u001b[1;33m)\u001b[0m\u001b[1;33m:\u001b[0m\u001b[1;33m\n",
      "\u001b[0m    \u001b[1;34m\"\"\"Computes the cross-entropy loss between true labels and predicted labels.\n",
      "\n",
      "    Use this cross-entropy loss for binary (0 or 1) classification applications.\n",
      "    The loss function requires the following inputs:\n",
      "\n",
      "    - `y_true` (true label): This is either 0 or 1.\n",
      "    - `y_pred` (predicted value): This is the model's prediction, i.e, a single\n",
      "      floating-point value which either represents a\n",
      "      [logit](https://en.wikipedia.org/wiki/Logit), (i.e, value in [-inf, inf]\n",
      "      when `from_logits=True`) or a probability (i.e, value in [0., 1.] when\n",
      "      `from_logits=False`).\n",
      "\n",
      "    **Recommended Usage:** (set `from_logits=True`)\n",
      "\n",
      "    With `tf.keras` API:\n",
      "\n",
      "    ```python\n",
      "    model.compile(\n",
      "      loss=tf.keras.losses.BinaryCrossentropy(from_logits=True),\n",
      "      ....\n",
      "    )\n",
      "    ```\n",
      "\n",
      "    As a standalone function:\n",
      "\n",
      "    >>> # Example 1: (batch_size = 1, number of samples = 4)\n",
      "    >>> y_true = [0, 1, 0, 0]\n",
      "    >>> y_pred = [-18.6, 0.51, 2.94, -12.8]\n",
      "    >>> bce = tf.keras.losses.BinaryCrossentropy(from_logits=True)\n",
      "    >>> bce(y_true, y_pred).numpy()\n",
      "    0.865\n",
      "\n",
      "    >>> # Example 2: (batch_size = 2, number of samples = 4)\n",
      "    >>> y_true = [[0, 1], [0, 0]]\n",
      "    >>> y_pred = [[-18.6, 0.51], [2.94, -12.8]]\n",
      "    >>> # Using default 'auto'/'sum_over_batch_size' reduction type.\n",
      "    >>> bce = tf.keras.losses.BinaryCrossentropy(from_logits=True)\n",
      "    >>> bce(y_true, y_pred).numpy()\n",
      "    0.865\n",
      "    >>> # Using 'sample_weight' attribute\n",
      "    >>> bce(y_true, y_pred, sample_weight=[0.8, 0.2]).numpy()\n",
      "    0.243\n",
      "    >>> # Using 'sum' reduction` type.\n",
      "    >>> bce = tf.keras.losses.BinaryCrossentropy(from_logits=True,\n",
      "    ...     reduction=tf.keras.losses.Reduction.SUM)\n",
      "    >>> bce(y_true, y_pred).numpy()\n",
      "    1.730\n",
      "    >>> # Using 'none' reduction type.\n",
      "    >>> bce = tf.keras.losses.BinaryCrossentropy(from_logits=True,\n",
      "    ...     reduction=tf.keras.losses.Reduction.NONE)\n",
      "    >>> bce(y_true, y_pred).numpy()\n",
      "    array([0.235, 1.496], dtype=float32)\n",
      "\n",
      "    **Default Usage:** (set `from_logits=False`)\n",
      "\n",
      "    >>> # Make the following updates to the above \"Recommended Usage\" section\n",
      "    >>> # 1. Set `from_logits=False`\n",
      "    >>> tf.keras.losses.BinaryCrossentropy() # OR ...('from_logits=False')\n",
      "    >>> # 2. Update `y_pred` to use probabilities instead of logits\n",
      "    >>> y_pred = [0.6, 0.3, 0.2, 0.8] # OR [[0.6, 0.3], [0.2, 0.8]]\n",
      "    \"\"\"\u001b[0m\u001b[1;33m\n",
      "\u001b[0m\u001b[1;33m\n",
      "\u001b[0m    \u001b[1;32mdef\u001b[0m \u001b[0m__init__\u001b[0m\u001b[1;33m(\u001b[0m\u001b[1;33m\n",
      "\u001b[0m        \u001b[0mself\u001b[0m\u001b[1;33m,\u001b[0m\u001b[1;33m\n",
      "\u001b[0m        \u001b[0mfrom_logits\u001b[0m\u001b[1;33m=\u001b[0m\u001b[1;32mFalse\u001b[0m\u001b[1;33m,\u001b[0m\u001b[1;33m\n",
      "\u001b[0m        \u001b[0mlabel_smoothing\u001b[0m\u001b[1;33m=\u001b[0m\u001b[1;36m0.0\u001b[0m\u001b[1;33m,\u001b[0m\u001b[1;33m\n",
      "\u001b[0m        \u001b[0maxis\u001b[0m\u001b[1;33m=\u001b[0m\u001b[1;33m-\u001b[0m\u001b[1;36m1\u001b[0m\u001b[1;33m,\u001b[0m\u001b[1;33m\n",
      "\u001b[0m        \u001b[0mreduction\u001b[0m\u001b[1;33m=\u001b[0m\u001b[0mlosses_utils\u001b[0m\u001b[1;33m.\u001b[0m\u001b[0mReductionV2\u001b[0m\u001b[1;33m.\u001b[0m\u001b[0mAUTO\u001b[0m\u001b[1;33m,\u001b[0m\u001b[1;33m\n",
      "\u001b[0m        \u001b[0mname\u001b[0m\u001b[1;33m=\u001b[0m\u001b[1;34m\"binary_crossentropy\"\u001b[0m\u001b[1;33m,\u001b[0m\u001b[1;33m\n",
      "\u001b[0m    \u001b[1;33m)\u001b[0m\u001b[1;33m:\u001b[0m\u001b[1;33m\n",
      "\u001b[0m        \u001b[1;34m\"\"\"Initializes `BinaryCrossentropy` instance.\n",
      "\n",
      "        Args:\n",
      "          from_logits: Whether to interpret `y_pred` as a tensor of\n",
      "            [logit](https://en.wikipedia.org/wiki/Logit) values. By default, we\n",
      "            assume that `y_pred` contains probabilities (i.e., values in [0,\n",
      "            1]).\n",
      "          label_smoothing: Float in [0, 1]. When 0, no smoothing occurs. When >\n",
      "            0, we compute the loss between the predicted labels and a smoothed\n",
      "            version of the true labels, where the smoothing squeezes the labels\n",
      "            towards 0.5.  Larger values of `label_smoothing` correspond to\n",
      "            heavier smoothing.\n",
      "          axis: The axis along which to compute crossentropy (the features\n",
      "            axis).  Defaults to -1.\n",
      "          reduction: Type of `tf.keras.losses.Reduction` to apply to\n",
      "            loss. Default value is `AUTO`. `AUTO` indicates that the reduction\n",
      "            option will be determined by the usage context. For almost all cases\n",
      "            this defaults to `SUM_OVER_BATCH_SIZE`. When used with\n",
      "            `tf.distribute.Strategy`, outside of built-in training loops such as\n",
      "            `tf.keras` `compile` and `fit`, using `AUTO` or\n",
      "            `SUM_OVER_BATCH_SIZE` will raise an error. Please see this custom\n",
      "            training [tutorial](\n",
      "            https://www.tensorflow.org/tutorials/distribute/custom_training) for\n",
      "            more details.\n",
      "          name: Name for the op. Defaults to 'binary_crossentropy'.\n",
      "        \"\"\"\u001b[0m\u001b[1;33m\n",
      "\u001b[0m        \u001b[0msuper\u001b[0m\u001b[1;33m(\u001b[0m\u001b[1;33m)\u001b[0m\u001b[1;33m.\u001b[0m\u001b[0m__init__\u001b[0m\u001b[1;33m(\u001b[0m\u001b[1;33m\n",
      "\u001b[0m            \u001b[0mbinary_crossentropy\u001b[0m\u001b[1;33m,\u001b[0m\u001b[1;33m\n",
      "\u001b[0m            \u001b[0mname\u001b[0m\u001b[1;33m=\u001b[0m\u001b[0mname\u001b[0m\u001b[1;33m,\u001b[0m\u001b[1;33m\n",
      "\u001b[0m            \u001b[0mreduction\u001b[0m\u001b[1;33m=\u001b[0m\u001b[0mreduction\u001b[0m\u001b[1;33m,\u001b[0m\u001b[1;33m\n",
      "\u001b[0m            \u001b[0mfrom_logits\u001b[0m\u001b[1;33m=\u001b[0m\u001b[0mfrom_logits\u001b[0m\u001b[1;33m,\u001b[0m\u001b[1;33m\n",
      "\u001b[0m            \u001b[0mlabel_smoothing\u001b[0m\u001b[1;33m=\u001b[0m\u001b[0mlabel_smoothing\u001b[0m\u001b[1;33m,\u001b[0m\u001b[1;33m\n",
      "\u001b[0m            \u001b[0maxis\u001b[0m\u001b[1;33m=\u001b[0m\u001b[0maxis\u001b[0m\u001b[1;33m,\u001b[0m\u001b[1;33m\n",
      "\u001b[0m        \u001b[1;33m)\u001b[0m\u001b[1;33m\n",
      "\u001b[0m        \u001b[0mself\u001b[0m\u001b[1;33m.\u001b[0m\u001b[0mfrom_logits\u001b[0m \u001b[1;33m=\u001b[0m \u001b[0mfrom_logits\u001b[0m\u001b[1;33m\u001b[0m\u001b[1;33m\u001b[0m\u001b[0m\n",
      "\u001b[1;31mFile:\u001b[0m           c:\\users\\alexi\\anaconda3\\envs\\tf\\lib\\site-packages\\keras\\losses.py\n",
      "\u001b[1;31mType:\u001b[0m           type\n",
      "\u001b[1;31mSubclasses:\u001b[0m     "
     ]
    }
   ],
   "source": [
    "tf.losses.BinaryCrossentropy??"
   ]
  },
  {
   "cell_type": "markdown",
   "metadata": {},
   "source": []
  },
  {
   "cell_type": "code",
   "execution_count": 69,
   "metadata": {},
   "outputs": [],
   "source": [
    "@tf.function\n",
    "def train_step(batch):\n",
    "    \n",
    "    # Record all of our operations \n",
    "    with tf.GradientTape() as tape:     \n",
    "        # Get anchor and positive/negative image\n",
    "        X = batch[:2]\n",
    "        # Get label\n",
    "        y = batch[2]\n",
    "        \n",
    "        # Forward pass\n",
    "        yhat = siamese_model(X, training=True)\n",
    "        # Calculate loss\n",
    "        loss = binary_cross_loss(y, yhat)\n",
    "    print(loss)\n",
    "        \n",
    "    # Calculate gradients\n",
    "    grad = tape.gradient(loss, siamese_model.trainable_variables)\n",
    "    \n",
    "    # Calculate updated weights and apply to siamese model\n",
    "    opt.apply_gradients(zip(grad, siamese_model.trainable_variables))\n",
    "    \n",
    "    # Return loss\n",
    "    return loss"
   ]
  },
  {
   "cell_type": "markdown",
   "metadata": {},
   "source": [
    "### 5.4 Build Training Loop"
   ]
  },
  {
   "cell_type": "code",
   "execution_count": 70,
   "metadata": {},
   "outputs": [],
   "source": [
    "def train(data, EPOCHS):\n",
    "    # Loop through epochs\n",
    "    for epoch in range(1, EPOCHS+1):\n",
    "        print('\\n Epoch {}/{}'.format(epoch, EPOCHS))\n",
    "        progbar = tf.keras.utils.Progbar(len(data))\n",
    "        \n",
    "        # Loop through each batch\n",
    "        for idx, batch in enumerate(data):\n",
    "            # Run train step here\n",
    "            train_step(batch)\n",
    "            progbar.update(idx+1)\n",
    "        \n",
    "        # Save checkpoints\n",
    "        if epoch % 10 == 0: \n",
    "            checkpoint.save(file_prefix=checkpoint_prefix)"
   ]
  },
  {
   "cell_type": "markdown",
   "metadata": {},
   "source": [
    "### 5.5 Train the model"
   ]
  },
  {
   "cell_type": "code",
   "execution_count": 71,
   "metadata": {},
   "outputs": [],
   "source": [
    "EPOCHS = 50"
   ]
  },
  {
   "cell_type": "code",
   "execution_count": 72,
   "metadata": {},
   "outputs": [
    {
     "name": "stdout",
     "output_type": "stream",
     "text": [
      "\n",
      " Epoch 1/50\n",
      "Tensor(\"binary_crossentropy/weighted_loss/value:0\", shape=(), dtype=float32)\n",
      "Tensor(\"binary_crossentropy/weighted_loss/value:0\", shape=(), dtype=float32)\n",
      "26/27 [===========================>..] - ETA: 0sTensor(\"binary_crossentropy/weighted_loss/value:0\", shape=(), dtype=float32)\n",
      "27/27 [==============================] - 21s 379ms/step\n",
      "\n",
      " Epoch 2/50\n",
      "27/27 [==============================] - 9s 353ms/step\n",
      "\n",
      " Epoch 3/50\n",
      "27/27 [==============================] - 9s 344ms/step\n",
      "\n",
      " Epoch 4/50\n",
      "27/27 [==============================] - 9s 343ms/step\n",
      "\n",
      " Epoch 5/50\n",
      "27/27 [==============================] - 9s 343ms/step\n",
      "\n",
      " Epoch 6/50\n",
      "27/27 [==============================] - 9s 339ms/step\n",
      "\n",
      " Epoch 7/50\n",
      "27/27 [==============================] - 9s 338ms/step\n",
      "\n",
      " Epoch 8/50\n",
      "27/27 [==============================] - 9s 340ms/step\n",
      "\n",
      " Epoch 9/50\n",
      "27/27 [==============================] - 9s 339ms/step\n",
      "\n",
      " Epoch 10/50\n",
      "27/27 [==============================] - 9s 340ms/step\n",
      "\n",
      " Epoch 11/50\n",
      "27/27 [==============================] - 9s 338ms/step\n",
      "\n",
      " Epoch 12/50\n",
      "27/27 [==============================] - 9s 340ms/step\n",
      "\n",
      " Epoch 13/50\n",
      "27/27 [==============================] - 9s 340ms/step\n",
      "\n",
      " Epoch 14/50\n",
      "27/27 [==============================] - 9s 340ms/step\n",
      "\n",
      " Epoch 15/50\n",
      "27/27 [==============================] - 9s 340ms/step\n",
      "\n",
      " Epoch 16/50\n",
      "27/27 [==============================] - 9s 340ms/step\n",
      "\n",
      " Epoch 17/50\n",
      "27/27 [==============================] - 9s 340ms/step\n",
      "\n",
      " Epoch 18/50\n",
      "27/27 [==============================] - 9s 341ms/step\n",
      "\n",
      " Epoch 19/50\n",
      "27/27 [==============================] - 9s 340ms/step\n",
      "\n",
      " Epoch 20/50\n",
      "27/27 [==============================] - 9s 343ms/step\n",
      "\n",
      " Epoch 21/50\n",
      "27/27 [==============================] - 9s 340ms/step\n",
      "\n",
      " Epoch 22/50\n",
      "27/27 [==============================] - 9s 341ms/step\n",
      "\n",
      " Epoch 23/50\n",
      "27/27 [==============================] - 9s 341ms/step\n",
      "\n",
      " Epoch 24/50\n",
      "27/27 [==============================] - 9s 341ms/step\n",
      "\n",
      " Epoch 25/50\n",
      "27/27 [==============================] - 9s 341ms/step\n",
      "\n",
      " Epoch 26/50\n",
      "27/27 [==============================] - 9s 342ms/step\n",
      "\n",
      " Epoch 27/50\n",
      "27/27 [==============================] - 9s 344ms/step\n",
      "\n",
      " Epoch 28/50\n",
      "27/27 [==============================] - 9s 343ms/step\n",
      "\n",
      " Epoch 29/50\n",
      "27/27 [==============================] - 9s 344ms/step\n",
      "\n",
      " Epoch 30/50\n",
      "27/27 [==============================] - 9s 343ms/step\n",
      "\n",
      " Epoch 31/50\n",
      "27/27 [==============================] - 9s 341ms/step\n",
      "\n",
      " Epoch 32/50\n",
      "27/27 [==============================] - 9s 341ms/step\n",
      "\n",
      " Epoch 33/50\n",
      "27/27 [==============================] - 9s 341ms/step\n",
      "\n",
      " Epoch 34/50\n",
      "27/27 [==============================] - 9s 341ms/step\n",
      "\n",
      " Epoch 35/50\n",
      "27/27 [==============================] - 9s 343ms/step\n",
      "\n",
      " Epoch 36/50\n",
      "27/27 [==============================] - 9s 343ms/step\n",
      "\n",
      " Epoch 37/50\n",
      "27/27 [==============================] - 9s 344ms/step\n",
      "\n",
      " Epoch 38/50\n",
      "27/27 [==============================] - 9s 343ms/step\n",
      "\n",
      " Epoch 39/50\n",
      "27/27 [==============================] - 9s 344ms/step\n",
      "\n",
      " Epoch 40/50\n",
      "27/27 [==============================] - 9s 345ms/step\n",
      "\n",
      " Epoch 41/50\n",
      "27/27 [==============================] - 9s 342ms/step\n",
      "\n",
      " Epoch 42/50\n",
      "27/27 [==============================] - 9s 342ms/step\n",
      "\n",
      " Epoch 43/50\n",
      "27/27 [==============================] - 9s 342ms/step\n",
      "\n",
      " Epoch 44/50\n",
      "27/27 [==============================] - 9s 343ms/step\n",
      "\n",
      " Epoch 45/50\n",
      "27/27 [==============================] - 9s 344ms/step\n",
      "\n",
      " Epoch 46/50\n",
      "27/27 [==============================] - 9s 344ms/step\n",
      "\n",
      " Epoch 47/50\n",
      "27/27 [==============================] - 9s 345ms/step\n",
      "\n",
      " Epoch 48/50\n",
      "27/27 [==============================] - 9s 345ms/step\n",
      "\n",
      " Epoch 49/50\n",
      "27/27 [==============================] - 9s 346ms/step\n",
      "\n",
      " Epoch 50/50\n",
      "27/27 [==============================] - 9s 345ms/step\n"
     ]
    }
   ],
   "source": [
    "train(train_data, EPOCHS)"
   ]
  },
  {
   "cell_type": "markdown",
   "metadata": {},
   "source": [
    "# 6. Evaluation Mode"
   ]
  },
  {
   "cell_type": "markdown",
   "metadata": {},
   "source": [
    "### 6.1 Import Metrics"
   ]
  },
  {
   "cell_type": "code",
   "execution_count": 73,
   "metadata": {},
   "outputs": [],
   "source": [
    "# Import metric calculations\n",
    "from tensorflow.keras.metrics import Precision, Recall"
   ]
  },
  {
   "cell_type": "markdown",
   "metadata": {},
   "source": [
    "### 6.2 Make Predictions"
   ]
  },
  {
   "cell_type": "code",
   "execution_count": 74,
   "metadata": {},
   "outputs": [],
   "source": [
    "# Get a batch of test data\n",
    "test_input, test_val, y_true = test_data.as_numpy_iterator().next()"
   ]
  },
  {
   "cell_type": "code",
   "execution_count": 75,
   "metadata": {},
   "outputs": [
    {
     "name": "stdout",
     "output_type": "stream",
     "text": [
      "1/1 [==============================] - 0s 469ms/step\n"
     ]
    },
    {
     "data": {
      "text/plain": [
       "array([[5.3856016e-05],\n",
       "       [9.9959654e-01],\n",
       "       [1.0000000e+00],\n",
       "       [9.9999952e-01],\n",
       "       [1.0000000e+00],\n",
       "       [9.9999940e-01],\n",
       "       [3.1831277e-10],\n",
       "       [3.4686251e-13],\n",
       "       [9.9969041e-01],\n",
       "       [6.0148934e-12],\n",
       "       [3.4028627e-11],\n",
       "       [4.2925546e-12],\n",
       "       [1.0000000e+00],\n",
       "       [1.0000000e+00],\n",
       "       [3.4614824e-12],\n",
       "       [9.9969244e-01]], dtype=float32)"
      ]
     },
     "execution_count": 75,
     "metadata": {},
     "output_type": "execute_result"
    }
   ],
   "source": [
    "# Make predictions\n",
    "y_hat = siamese_model.predict([test_input, test_val])\n",
    "y_hat"
   ]
  },
  {
   "cell_type": "code",
   "execution_count": 76,
   "metadata": {},
   "outputs": [
    {
     "data": {
      "text/plain": [
       "[0, 1, 1, 1, 1, 1, 0, 0, 1, 0, 0, 0, 1, 1, 0, 1]"
      ]
     },
     "execution_count": 76,
     "metadata": {},
     "output_type": "execute_result"
    }
   ],
   "source": [
    "# Post processing the results \n",
    "[1 if prediction > 0.5 else 0 for prediction in y_hat ]"
   ]
  },
  {
   "cell_type": "code",
   "execution_count": 77,
   "metadata": {},
   "outputs": [
    {
     "data": {
      "text/plain": [
       "array([0., 1., 1., 1., 1., 1., 0., 0., 1., 0., 0., 0., 1., 1., 0., 1.],\n",
       "      dtype=float32)"
      ]
     },
     "execution_count": 77,
     "metadata": {},
     "output_type": "execute_result"
    }
   ],
   "source": [
    "y_true"
   ]
  },
  {
   "cell_type": "markdown",
   "metadata": {},
   "source": [
    "### 6.3 Calculate Metrics"
   ]
  },
  {
   "cell_type": "code",
   "execution_count": 78,
   "metadata": {},
   "outputs": [
    {
     "data": {
      "text/plain": [
       "1.0"
      ]
     },
     "execution_count": 78,
     "metadata": {},
     "output_type": "execute_result"
    }
   ],
   "source": [
    "# Creating a metric object \n",
    "m = Recall()\n",
    "\n",
    "# Calculating the recall value \n",
    "m.update_state(y_true, y_hat)\n",
    "\n",
    "# Return Recall Result\n",
    "m.result().numpy()"
   ]
  },
  {
   "cell_type": "code",
   "execution_count": 79,
   "metadata": {},
   "outputs": [
    {
     "data": {
      "text/plain": [
       "1.0"
      ]
     },
     "execution_count": 79,
     "metadata": {},
     "output_type": "execute_result"
    }
   ],
   "source": [
    "# Creating a metric object \n",
    "m = Precision()\n",
    "\n",
    "# Calculating the recall value \n",
    "m.update_state(y_true, y_hat)\n",
    "\n",
    "# Return Recall Result\n",
    "m.result().numpy()"
   ]
  },
  {
   "cell_type": "markdown",
   "metadata": {},
   "source": [
    "### 6.4 Viz Results"
   ]
  },
  {
   "cell_type": "code",
   "execution_count": 80,
   "metadata": {},
   "outputs": [
    {
     "data": {
      "image/png": "[encoded data removed]",
      "text/plain": [
       "<Figure size 1000x800 with 2 Axes>"
      ]
     },
     "metadata": {},
     "output_type": "display_data"
    }
   ],
   "source": [
    "# Set plot size \n",
    "plt.figure(figsize=(10,8))\n",
    "\n",
    "# Set first subplot\n",
    "plt.subplot(1,2,1)\n",
    "plt.imshow(test_input[0])\n",
    "\n",
    "# Set second subplot\n",
    "plt.subplot(1,2,2)\n",
    "plt.imshow(test_val[0])\n",
    "\n",
    "# Renders cleanly\n",
    "plt.show()"
   ]
  },
  {
   "cell_type": "markdown",
   "metadata": {},
   "source": [
    "# 7. Save the model"
   ]
  },
  {
   "cell_type": "code",
   "execution_count": 81,
   "metadata": {},
   "outputs": [
    {
     "name": "stdout",
     "output_type": "stream",
     "text": [
      "WARNING:tensorflow:Compiled the loaded model, but the compiled metrics have yet to be built. `model.compile_metrics` will be empty until you train or evaluate the model.\n"
     ]
    }
   ],
   "source": [
    "# Save weights\n",
    "siamese_model.save('siamesemodel.h5')"
   ]
  },
  {
   "cell_type": "code",
   "execution_count": 82,
   "metadata": {},
   "outputs": [
    {
     "data": {
      "text/plain": [
       "__main__.L1Dist"
      ]
     },
     "execution_count": 82,
     "metadata": {},
     "output_type": "execute_result"
    }
   ],
   "source": [
    "L1Dist"
   ]
  },
  {
   "cell_type": "code",
   "execution_count": 83,
   "metadata": {},
   "outputs": [
    {
     "name": "stdout",
     "output_type": "stream",
     "text": [
      "WARNING:tensorflow:No training configuration found in the save file, so the model was *not* compiled. Compile it manually.\n"
     ]
    }
   ],
   "source": [
    "# Reload model \n",
    "model = tf.keras.models.load_model('siamesemodel.h5', \n",
    "                                   custom_objects={'L1Dist':L1Dist, 'BinaryCrossentropy':tf.losses.BinaryCrossentropy})"
   ]
  },
  {
   "cell_type": "code",
   "execution_count": 84,
   "metadata": {},
   "outputs": [
    {
     "name": "stdout",
     "output_type": "stream",
     "text": [
      "1/1 [==============================] - 0s 127ms/step\n"
     ]
    },
    {
     "data": {
      "text/plain": [
       "array([[5.3856016e-05],\n",
       "       [9.9959654e-01],\n",
       "       [1.0000000e+00],\n",
       "       [9.9999952e-01],\n",
       "       [1.0000000e+00],\n",
       "       [9.9999940e-01],\n",
       "       [3.1831277e-10],\n",
       "       [3.4686251e-13],\n",
       "       [9.9969041e-01],\n",
       "       [6.0148934e-12],\n",
       "       [3.4028627e-11],\n",
       "       [4.2925546e-12],\n",
       "       [1.0000000e+00],\n",
       "       [1.0000000e+00],\n",
       "       [3.4614824e-12],\n",
       "       [9.9969244e-01]], dtype=float32)"
      ]
     },
     "execution_count": 84,
     "metadata": {},
     "output_type": "execute_result"
    }
   ],
   "source": [
    "# Make predictions with reloaded model\n",
    "model.predict([test_input, test_val])"
   ]
  },
  {
   "cell_type": "code",
   "execution_count": 85,
   "metadata": {},
   "outputs": [
    {
     "name": "stdout",
     "output_type": "stream",
     "text": [
      "Model: \"SiameseNetwork\"\n",
      "__________________________________________________________________________________________________\n",
      " Layer (type)                   Output Shape         Param #     Connected to                     \n",
      "==================================================================================================\n",
      " input_img (InputLayer)         [(None, 100, 100, 3  0           []                               \n",
      "                                )]                                                                \n",
      "                                                                                                  \n",
      " validation_img (InputLayer)    [(None, 100, 100, 3  0           []                               \n",
      "                                )]                                                                \n",
      "                                                                                                  \n",
      " embedding (Functional)         (None, 4096)         38960448    ['input_img[0][0]',              \n",
      "                                                                  'validation_img[0][0]']         \n",
      "                                                                                                  \n",
      " l1_dist_3 (L1Dist)             (None, 4096)         0           ['embedding[0][0]',              \n",
      "                                                                  'embedding[1][0]']              \n",
      "                                                                                                  \n",
      " dense_2 (Dense)                (None, 1)            4097        ['l1_dist_3[0][0]']              \n",
      "                                                                                                  \n",
      "==================================================================================================\n",
      "Total params: 38,964,545\n",
      "Trainable params: 38,964,545\n",
      "Non-trainable params: 0\n",
      "__________________________________________________________________________________________________\n"
     ]
    }
   ],
   "source": [
    "# View model summary\n",
    "model.summary()"
   ]
  },
  {
   "cell_type": "markdown",
   "metadata": {},
   "source": [
    "# 8. Real Time Test"
   ]
  },
  {
   "cell_type": "markdown",
   "metadata": {},
   "source": [
    "### 8.1 Verification Function"
   ]
  },
  {
   "cell_type": "markdown",
   "metadata": {},
   "source": [
    "Access our webcam using opencv as the input image, compare it to a number our our positve samples which were already taken. Every full verification cycle will be 50 cycles of prediction. this way we can have a higher chance to accurately verifiy the input image. "
   ]
  },
  {
   "cell_type": "markdown",
   "metadata": {},
   "source": [
    "We also want to establish a threshold so if the input image is 80% similar to our positive samples then it will be sufficient. (The 80% iis just an example the threshold is tunable)\n",
    "There will be two thresholds the first will be established by how many input frames pass from the 50 cycles (if 30 out of the 50 pass then 30/50 = 1st threshold) "
   ]
  },
  {
   "cell_type": "code",
   "execution_count": 86,
   "metadata": {},
   "outputs": [],
   "source": [
    "# application_data\\verification_images"
   ]
  },
  {
   "cell_type": "code",
   "execution_count": 87,
   "metadata": {},
   "outputs": [
    {
     "data": {
      "text/plain": [
       "['012f6581-b0cd-11ee-927a-f8ac65ab46bd.jpg',\n",
       " '0161f26f-b0cd-11ee-800d-f8ac65ab46bd.jpg',\n",
       " '5ae48488-b0cc-11ee-ac39-f8ac65ab46bd.jpg',\n",
       " '5ae9668c-b0cc-11ee-a929-f8ac65ab46bd.jpg',\n",
       " '5aee2190-b0cc-11ee-a335-f8ac65ab46bd.jpg',\n",
       " '5af2f13b-b0cc-11ee-b959-f8ac65ab46bd.jpg',\n",
       " '5af7d346-b0cc-11ee-a559-f8ac65ab46bd.jpg',\n",
       " '5afcb550-b0cc-11ee-a587-f8ac65ab46bd.jpg',\n",
       " '5b01972d-b0cc-11ee-8517-f8ac65ab46bd.jpg',\n",
       " '5b0679bd-b0cc-11ee-90ad-f8ac65ab46bd.jpg',\n",
       " '5b12a2ce-b0cc-11ee-9ef5-f8ac65ab46bd.jpg',\n",
       " '5b1784de-b0cc-11ee-8d78-f8ac65ab46bd.jpg',\n",
       " '5b1c3b83-b0cc-11ee-bcc6-f8ac65ab46bd.jpg',\n",
       " '5b21baab-b0cc-11ee-b445-f8ac65ab46bd.jpg',\n",
       " '5b346307-b0cc-11ee-9674-f8ac65ab46bd.jpg',\n",
       " '5b392a95-b0cc-11ee-9216-f8ac65ab46bd.jpg',\n",
       " '5b4140c5-b0cc-11ee-afb8-f8ac65ab46bd.jpg',\n",
       " '5b4fcf65-b0cc-11ee-a976-f8ac65ab46bd.jpg',\n",
       " '5b5cc932-b0cc-11ee-b4b5-f8ac65ab46bd.jpg',\n",
       " '5b615d3c-b0cc-11ee-b7b9-f8ac65ab46bd.jpg',\n",
       " '5b663f7a-b0cc-11ee-a905-f8ac65ab46bd.jpg',\n",
       " '5b7228be-b0cc-11ee-97b0-f8ac65ab46bd.jpg',\n",
       " '5b770a7c-b0cc-11ee-9aba-f8ac65ab46bd.jpg',\n",
       " '5b7bed6d-b0cc-11ee-b187-f8ac65ab46bd.jpg',\n",
       " '5b80b11d-b0cc-11ee-9e8a-f8ac65ab46bd.jpg',\n",
       " '5ba90769-b0cc-11ee-89b9-f8ac65ab46bd.jpg',\n",
       " '5badd48f-b0cc-11ee-a61c-f8ac65ab46bd.jpg',\n",
       " '5bb8a9f8-b0cc-11ee-912e-f8ac65ab46bd.jpg',\n",
       " '5bd17d6b-b0cc-11ee-b2cc-f8ac65ab46bd.jpg',\n",
       " '5bd65f65-b0cc-11ee-a5b2-f8ac65ab46bd.jpg',\n",
       " '5bdaf327-b0cc-11ee-9048-f8ac65ab46bd.jpg',\n",
       " '5bdfd535-b0cc-11ee-af89-f8ac65ab46bd.jpg',\n",
       " '939dcef8-b0cc-11ee-9854-f8ac65ab46bd.jpg',\n",
       " '9400ccec-b0cc-11ee-b52d-f8ac65ab46bd.jpg',\n",
       " '94a20c41-b0cc-11ee-b42d-f8ac65ab46bd.jpg',\n",
       " '94e12858-b0cc-11ee-a23e-f8ac65ab46bd.jpg',\n",
       " '94e8544c-b0cc-11ee-84e1-f8ac65ab46bd.jpg',\n",
       " '95bbc024-b0cc-11ee-bc08-f8ac65ab46bd.jpg',\n",
       " '95ee3e1d-b0cc-11ee-98f3-f8ac65ab46bd.jpg',\n",
       " '962a8cf6-b0cc-11ee-8db9-f8ac65ab46bd.jpg',\n",
       " '9661d367-b0cc-11ee-a540-f8ac65ab46bd.jpg',\n",
       " '96a89a51-b0cc-11ee-a750-f8ac65ab46bd.jpg',\n",
       " '96ea13b9-b0cc-11ee-a7a9-f8ac65ab46bd.jpg',\n",
       " '9762a36a-b0cc-11ee-86bb-f8ac65ab46bd.jpg',\n",
       " '97c274bb-b0cc-11ee-8980-f8ac65ab46bd.jpg',\n",
       " '97efb047-b0cc-11ee-ae4f-f8ac65ab46bd.jpg',\n",
       " '98fe2a84-b0cc-11ee-b5d5-f8ac65ab46bd.jpg',\n",
       " '995f81d1-b0cc-11ee-af4b-f8ac65ab46bd.jpg',\n",
       " '99d352c3-b0cc-11ee-b28d-f8ac65ab46bd.jpg',\n",
       " '9f07b7b4-b0cc-11ee-9cf9-f8ac65ab46bd.jpg',\n",
       " '9f139ed5-b0cc-11ee-888c-f8ac65ab46bd.jpg',\n",
       " '9f7d7d5d-b0cc-11ee-93a9-f8ac65ab46bd.jpg',\n",
       " '9fc40561-b0cc-11ee-8e47-f8ac65ab46bd.jpg',\n",
       " '9ffb1b13-b0cc-11ee-ae94-f8ac65ab46bd.jpg']"
      ]
     },
     "execution_count": 87,
     "metadata": {},
     "output_type": "execute_result"
    }
   ],
   "source": [
    "os.listdir(os.path.join('application_data', 'verification_images'))"
   ]
  },
  {
   "cell_type": "code",
   "execution_count": 88,
   "metadata": {},
   "outputs": [
    {
     "data": {
      "text/plain": [
       "'application_data\\\\input_image\\\\input_image.jpg'"
      ]
     },
     "execution_count": 88,
     "metadata": {},
     "output_type": "execute_result"
    }
   ],
   "source": [
    "os.path.join('application_data', 'input_image', 'input_image.jpg')"
   ]
  },
  {
   "cell_type": "code",
   "execution_count": 89,
   "metadata": {},
   "outputs": [
    {
     "name": "stdout",
     "output_type": "stream",
     "text": [
      "application_data\\verification_images\\012f6581-b0cd-11ee-927a-f8ac65ab46bd.jpg\n",
      "application_data\\verification_images\\0161f26f-b0cd-11ee-800d-f8ac65ab46bd.jpg\n",
      "application_data\\verification_images\\5ae48488-b0cc-11ee-ac39-f8ac65ab46bd.jpg\n",
      "application_data\\verification_images\\5ae9668c-b0cc-11ee-a929-f8ac65ab46bd.jpg\n",
      "application_data\\verification_images\\5aee2190-b0cc-11ee-a335-f8ac65ab46bd.jpg\n",
      "application_data\\verification_images\\5af2f13b-b0cc-11ee-b959-f8ac65ab46bd.jpg\n",
      "application_data\\verification_images\\5af7d346-b0cc-11ee-a559-f8ac65ab46bd.jpg\n",
      "application_data\\verification_images\\5afcb550-b0cc-11ee-a587-f8ac65ab46bd.jpg\n",
      "application_data\\verification_images\\5b01972d-b0cc-11ee-8517-f8ac65ab46bd.jpg\n",
      "application_data\\verification_images\\5b0679bd-b0cc-11ee-90ad-f8ac65ab46bd.jpg\n",
      "application_data\\verification_images\\5b12a2ce-b0cc-11ee-9ef5-f8ac65ab46bd.jpg\n",
      "application_data\\verification_images\\5b1784de-b0cc-11ee-8d78-f8ac65ab46bd.jpg\n",
      "application_data\\verification_images\\5b1c3b83-b0cc-11ee-bcc6-f8ac65ab46bd.jpg\n",
      "application_data\\verification_images\\5b21baab-b0cc-11ee-b445-f8ac65ab46bd.jpg\n",
      "application_data\\verification_images\\5b346307-b0cc-11ee-9674-f8ac65ab46bd.jpg\n",
      "application_data\\verification_images\\5b392a95-b0cc-11ee-9216-f8ac65ab46bd.jpg\n",
      "application_data\\verification_images\\5b4140c5-b0cc-11ee-afb8-f8ac65ab46bd.jpg\n",
      "application_data\\verification_images\\5b4fcf65-b0cc-11ee-a976-f8ac65ab46bd.jpg\n",
      "application_data\\verification_images\\5b5cc932-b0cc-11ee-b4b5-f8ac65ab46bd.jpg\n",
      "application_data\\verification_images\\5b615d3c-b0cc-11ee-b7b9-f8ac65ab46bd.jpg\n",
      "application_data\\verification_images\\5b663f7a-b0cc-11ee-a905-f8ac65ab46bd.jpg\n",
      "application_data\\verification_images\\5b7228be-b0cc-11ee-97b0-f8ac65ab46bd.jpg\n",
      "application_data\\verification_images\\5b770a7c-b0cc-11ee-9aba-f8ac65ab46bd.jpg\n",
      "application_data\\verification_images\\5b7bed6d-b0cc-11ee-b187-f8ac65ab46bd.jpg\n",
      "application_data\\verification_images\\5b80b11d-b0cc-11ee-9e8a-f8ac65ab46bd.jpg\n",
      "application_data\\verification_images\\5ba90769-b0cc-11ee-89b9-f8ac65ab46bd.jpg\n",
      "application_data\\verification_images\\5badd48f-b0cc-11ee-a61c-f8ac65ab46bd.jpg\n",
      "application_data\\verification_images\\5bb8a9f8-b0cc-11ee-912e-f8ac65ab46bd.jpg\n",
      "application_data\\verification_images\\5bd17d6b-b0cc-11ee-b2cc-f8ac65ab46bd.jpg\n",
      "application_data\\verification_images\\5bd65f65-b0cc-11ee-a5b2-f8ac65ab46bd.jpg\n",
      "application_data\\verification_images\\5bdaf327-b0cc-11ee-9048-f8ac65ab46bd.jpg\n",
      "application_data\\verification_images\\5bdfd535-b0cc-11ee-af89-f8ac65ab46bd.jpg\n",
      "application_data\\verification_images\\939dcef8-b0cc-11ee-9854-f8ac65ab46bd.jpg\n",
      "application_data\\verification_images\\9400ccec-b0cc-11ee-b52d-f8ac65ab46bd.jpg\n",
      "application_data\\verification_images\\94a20c41-b0cc-11ee-b42d-f8ac65ab46bd.jpg\n",
      "application_data\\verification_images\\94e12858-b0cc-11ee-a23e-f8ac65ab46bd.jpg\n",
      "application_data\\verification_images\\94e8544c-b0cc-11ee-84e1-f8ac65ab46bd.jpg\n",
      "application_data\\verification_images\\95bbc024-b0cc-11ee-bc08-f8ac65ab46bd.jpg\n",
      "application_data\\verification_images\\95ee3e1d-b0cc-11ee-98f3-f8ac65ab46bd.jpg\n",
      "application_data\\verification_images\\962a8cf6-b0cc-11ee-8db9-f8ac65ab46bd.jpg\n",
      "application_data\\verification_images\\9661d367-b0cc-11ee-a540-f8ac65ab46bd.jpg\n",
      "application_data\\verification_images\\96a89a51-b0cc-11ee-a750-f8ac65ab46bd.jpg\n",
      "application_data\\verification_images\\96ea13b9-b0cc-11ee-a7a9-f8ac65ab46bd.jpg\n",
      "application_data\\verification_images\\9762a36a-b0cc-11ee-86bb-f8ac65ab46bd.jpg\n",
      "application_data\\verification_images\\97c274bb-b0cc-11ee-8980-f8ac65ab46bd.jpg\n",
      "application_data\\verification_images\\97efb047-b0cc-11ee-ae4f-f8ac65ab46bd.jpg\n",
      "application_data\\verification_images\\98fe2a84-b0cc-11ee-b5d5-f8ac65ab46bd.jpg\n",
      "application_data\\verification_images\\995f81d1-b0cc-11ee-af4b-f8ac65ab46bd.jpg\n",
      "application_data\\verification_images\\99d352c3-b0cc-11ee-b28d-f8ac65ab46bd.jpg\n",
      "application_data\\verification_images\\9f07b7b4-b0cc-11ee-9cf9-f8ac65ab46bd.jpg\n",
      "application_data\\verification_images\\9f139ed5-b0cc-11ee-888c-f8ac65ab46bd.jpg\n",
      "application_data\\verification_images\\9f7d7d5d-b0cc-11ee-93a9-f8ac65ab46bd.jpg\n",
      "application_data\\verification_images\\9fc40561-b0cc-11ee-8e47-f8ac65ab46bd.jpg\n",
      "application_data\\verification_images\\9ffb1b13-b0cc-11ee-ae94-f8ac65ab46bd.jpg\n"
     ]
    }
   ],
   "source": [
    "for image in os.listdir(os.path.join('application_data', 'verification_images')):\n",
    "    validation_img = os.path.join('application_data', 'verification_images', image)\n",
    "    print(validation_img)"
   ]
  },
  {
   "cell_type": "code",
   "execution_count": 90,
   "metadata": {},
   "outputs": [],
   "source": [
    "def verify(model, detection_threshold, verification_threshold):\n",
    "    # Build results array\n",
    "    results = []\n",
    "    for image in os.listdir(os.path.join('application_data', 'verification_images')):\n",
    "        input_img = preprocess(os.path.join('application_data', 'input_image', 'input_image.jpg'))\n",
    "        validation_img = preprocess(os.path.join('application_data', 'verification_images', image))\n",
    "        \n",
    "        # Make Predictions \n",
    "        result = model.predict(list(np.expand_dims([input_img, validation_img], axis=1)))\n",
    "        results.append(result)\n",
    "    \n",
    "    # Detection Threshold: Metric above which a prediciton is considered positive \n",
    "    detection = np.sum(np.array(results) > detection_threshold)\n",
    "    \n",
    "    # Verification Threshold: Proportion of positive predictions / total positive samples \n",
    "    verification = detection / len(os.listdir(os.path.join('application_data', 'verification_images'))) \n",
    "    verified = verification > verification_threshold\n",
    "    \n",
    "    return results, verified"
   ]
  },
  {
   "cell_type": "markdown",
   "metadata": {},
   "source": [
    "### 8.2 OpenCV Real Time Verification "
   ]
  },
  {
   "cell_type": "code",
   "execution_count": 102,
   "metadata": {},
   "outputs": [
    {
     "name": "stdout",
     "output_type": "stream",
     "text": [
      "1/1 [==============================] - 0s 26ms/step\n",
      "1/1 [==============================] - 0s 24ms/step\n",
      "1/1 [==============================] - 0s 23ms/step\n",
      "1/1 [==============================] - 0s 24ms/step\n",
      "1/1 [==============================] - 0s 24ms/step\n",
      "1/1 [==============================] - 0s 23ms/step\n",
      "1/1 [==============================] - 0s 23ms/step\n",
      "1/1 [==============================] - 0s 25ms/step\n",
      "1/1 [==============================] - 0s 24ms/step\n",
      "1/1 [==============================] - 0s 24ms/step\n",
      "1/1 [==============================] - 0s 24ms/step\n",
      "1/1 [==============================] - 0s 23ms/step\n",
      "1/1 [==============================] - 0s 24ms/step\n",
      "1/1 [==============================] - 0s 25ms/step\n",
      "1/1 [==============================] - 0s 26ms/step\n",
      "1/1 [==============================] - 0s 24ms/step\n",
      "1/1 [==============================] - 0s 23ms/step\n",
      "1/1 [==============================] - 0s 24ms/step\n",
      "1/1 [==============================] - 0s 24ms/step\n",
      "1/1 [==============================] - 0s 25ms/step\n",
      "1/1 [==============================] - 0s 23ms/step\n",
      "1/1 [==============================] - 0s 25ms/step\n",
      "1/1 [==============================] - 0s 24ms/step\n",
      "1/1 [==============================] - 0s 23ms/step\n",
      "1/1 [==============================] - 0s 24ms/step\n",
      "1/1 [==============================] - 0s 26ms/step\n",
      "1/1 [==============================] - 0s 24ms/step\n",
      "1/1 [==============================] - 0s 24ms/step\n",
      "1/1 [==============================] - 0s 25ms/step\n",
      "1/1 [==============================] - 0s 32ms/step\n",
      "1/1 [==============================] - 0s 29ms/step\n",
      "1/1 [==============================] - 0s 27ms/step\n",
      "1/1 [==============================] - 0s 29ms/step\n",
      "1/1 [==============================] - 0s 26ms/step\n",
      "1/1 [==============================] - 0s 24ms/step\n",
      "1/1 [==============================] - 0s 26ms/step\n",
      "1/1 [==============================] - 0s 27ms/step\n",
      "1/1 [==============================] - 0s 24ms/step\n",
      "1/1 [==============================] - 0s 23ms/step\n",
      "1/1 [==============================] - 0s 23ms/step\n",
      "1/1 [==============================] - 0s 24ms/step\n",
      "1/1 [==============================] - 0s 23ms/step\n",
      "1/1 [==============================] - 0s 24ms/step\n",
      "1/1 [==============================] - 0s 26ms/step\n",
      "1/1 [==============================] - 0s 24ms/step\n",
      "1/1 [==============================] - 0s 25ms/step\n",
      "1/1 [==============================] - 0s 24ms/step\n",
      "1/1 [==============================] - 0s 24ms/step\n",
      "1/1 [==============================] - 0s 27ms/step\n",
      "1/1 [==============================] - 0s 27ms/step\n",
      "1/1 [==============================] - 0s 24ms/step\n",
      "1/1 [==============================] - 0s 25ms/step\n",
      "1/1 [==============================] - 0s 25ms/step\n",
      "1/1 [==============================] - 0s 25ms/step\n",
      "False\n"
     ]
    }
   ],
   "source": [
    "cap = cv2.VideoCapture(0)\n",
    "while cap.isOpened():\n",
    "    ret, frame = cap.read()\n",
    "    frame = frame[170:170+250,400:400+250,:]\n",
    "    \n",
    "    cv2.imshow('Verification', frame)\n",
    "    \n",
    "    # Verification trigger\n",
    "    if cv2.waitKey(10) & 0xFF == ord('v'):\n",
    "        # Save input image to application_data/input_image folder \n",
    "        cv2.imwrite(os.path.join('application_data', 'input_image', 'input_image.jpg'), frame)\n",
    "        # Run verification\n",
    "        results, verified = verify(model, 0.9, 0.7)\n",
    "        print(verified)\n",
    "    \n",
    "    if cv2.waitKey(10) & 0xFF == ord('q'):\n",
    "        break\n",
    "cap.release()\n",
    "cv2.destroyAllWindows()"
   ]
  },
  {
   "cell_type": "code",
   "execution_count": 103,
   "metadata": {},
   "outputs": [
    {
     "data": {
      "text/plain": [
       "array([False, False, False, False, False, False, False, False, False,\n",
       "       False, False, False, False, False, False, False, False, False,\n",
       "       False, False, False, False, False, False, False, False, False,\n",
       "       False, False, False, False, False, False, False, False, False,\n",
       "       False, False, False, False, False, False, False, False, False,\n",
       "       False, False, False, False, False, False, False, False, False])"
      ]
     },
     "execution_count": 103,
     "metadata": {},
     "output_type": "execute_result"
    }
   ],
   "source": [
    "np.squeeze(results) > 0.9"
   ]
  },
  {
   "cell_type": "code",
   "execution_count": 104,
   "metadata": {},
   "outputs": [
    {
     "data": {
      "text/plain": [
       "0"
      ]
     },
     "execution_count": 104,
     "metadata": {},
     "output_type": "execute_result"
    }
   ],
   "source": [
    "np.sum(np.squeeze(results) > 0.9)"
   ]
  }
 ],
 "metadata": {
  "kernelspec": {
   "display_name": "Python 3",
   "language": "python",
   "name": "python3"
  },
  "language_info": {
   "codemirror_mode": {
    "name": "ipython",
    "version": 3
   },
   "file_extension": ".py",
   "mimetype": "text/x-python",
   "name": "python",
   "nbconvert_exporter": "python",
   "pygments_lexer": "ipython3",
   "version": "3.9.18"
  }
 },
 "nbformat": 4,
 "nbformat_minor": 2
}
